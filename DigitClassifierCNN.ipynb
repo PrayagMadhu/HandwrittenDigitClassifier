{
 "cells": [
  {
   "cell_type": "code",
   "execution_count": 2,
   "metadata": {
    "scrolled": false
   },
   "outputs": [
    {
     "name": "stdout",
     "output_type": "stream",
     "text": [
      "Extracting ./train-images-idx3-ubyte.gz\n",
      "Extracting ./train-labels-idx1-ubyte.gz\n",
      "Extracting ./t10k-images-idx3-ubyte.gz\n",
      "Extracting ./t10k-labels-idx1-ubyte.gz\n",
      "epoch : 0    - cost : 2.75e+03 - acc: 0.0885\n",
      "epoch : 250  - cost : 6.51     - acc: 0.794\n",
      "epoch : 500  - cost : 0.0      - acc: 0.813\n",
      "epoch : 750  - cost : 0.0      - acc: 0.824\n",
      "epoch : 1000 - cost : 0.0      - acc: 0.834\n",
      "epoch : 1250 - cost : 0.0      - acc: 0.84 \n",
      "epoch : 1500 - cost : 0.0      - acc: 0.841\n",
      "epoch : 1750 - cost : 0.0      - acc: 0.845\n",
      "epoch : 2000 - cost : 0.0      - acc: 0.846\n",
      "epoch : 2250 - cost : 0.0      - acc: 0.848\n",
      "epoch : 2500 - cost : 0.0      - acc: 0.85 \n",
      "epoch : 2750 - cost : 0.0      - acc: 0.85 \n",
      "epoch : 3000 - cost : 0.0      - acc: 0.852\n",
      "epoch : 3250 - cost : 0.0      - acc: 0.852\n",
      "epoch : 3500 - cost : 0.0      - acc: 0.855\n",
      "epoch : 3750 - cost : 0.0      - acc: 0.856\n",
      "epoch : 4000 - cost : 0.0      - acc: 0.856\n",
      "epoch : 4250 - cost : 0.0      - acc: 0.856\n",
      "epoch : 4500 - cost : 0.0      - acc: 0.857\n",
      "epoch : 4750 - cost : 0.0      - acc: 0.858\n",
      "epoch : 5000 - cost : 0.0      - acc: 0.857\n",
      "epoch : 5250 - cost : 0.0      - acc: 0.857\n",
      "epoch : 5500 - cost : 0.0      - acc: 0.859\n",
      "epoch : 5750 - cost : 0.0      - acc: 0.862\n",
      "epoch : 6000 - cost : 0.0      - acc: 0.864\n",
      "epoch : 6250 - cost : 0.0      - acc: 0.861\n",
      "epoch : 6500 - cost : 0.0      - acc: 0.863\n",
      "epoch : 6750 - cost : 0.0      - acc: 0.862\n",
      "epoch : 7000 - cost : 0.0      - acc: 0.866\n",
      "epoch : 7250 - cost : 0.0      - acc: 0.864\n",
      "epoch : 7500 - cost : 0.0      - acc: 0.865\n",
      "epoch : 7750 - cost : 0.0      - acc: 0.863\n",
      "epoch : 8000 - cost : 0.0      - acc: 0.863\n",
      "epoch : 8250 - cost : 0.0      - acc: 0.866\n",
      "epoch : 8500 - cost : 0.0      - acc: 0.867\n",
      "epoch : 8750 - cost : 0.0      - acc: 0.864\n",
      "epoch : 9000 - cost : 0.0      - acc: 0.864\n",
      "epoch : 9250 - cost : 0.0      - acc: 0.865\n",
      "epoch : 9500 - cost : 0.0      - acc: 0.866\n",
      "epoch : 9750 - cost : 0.0      - acc: 0.866\n",
      "\n",
      "Model accuracy - 0.8707001209259033\n"
     ]
    }
   ],
   "source": [
    "import tensorflow as tf\n",
    "tf.reset_default_graph()\n",
    "from tensorflow.examples.tutorials.mnist import input_data\n",
    "import numpy as np\n",
    "import math\n",
    "\n",
    "\n",
    "mnist=input_data.read_data_sets('.', one_hot=True, reshape=False)\n",
    "epochs=10000\n",
    "batch_size=512\n",
    "learning_rate=0.001\n",
    "drop_out=0.75\n",
    "display_step=250\n",
    "\n",
    "train_features=mnist.train.images\n",
    "valid_features=mnist.validation.images\n",
    "test_features=mnist.test.images\n",
    "\n",
    "train_labels=mnist.train.labels.astype(np.float32)\n",
    "valid_labels=mnist.validation.labels.astype(np.float32)\n",
    "test_labels=mnist.test.labels.astype(np.float32)\n",
    "\n",
    "\n",
    "\n",
    "x=tf.placeholder(tf.float32, [None, 28, 28, 1])\n",
    "labels=tf.placeholder(tf.float32, [None, 10])\n",
    "keep_prob=tf.placeholder(tf.float32)\n",
    "\n",
    "weights={'c1':tf.Variable(tf.random_normal([5,5,1,32], name='weightsC1')),\n",
    "        'c2':tf.Variable(tf.random_normal([5,5,1,64], name='weightsC2')),\n",
    "        'fc':tf.Variable(tf.random_normal([7*7*64, 1024], name='weightsFc')),\n",
    "        'out':tf.Variable(tf.random_normal([1024,10], name='weightsOut'))}\n",
    "\n",
    "biases={'c1':tf.Variable(tf.random_uniform([32], name='biasC1')),\n",
    "       'c2':tf.Variable(tf.random_uniform([64]), name='biasC1'),\n",
    "       'fc':tf.Variable(tf.random_uniform([1024], name='biasFc')),\n",
    "       'out':tf.Variable(tf.random_uniform([10], name='biasOut'))}\n",
    "\n",
    "def conv2d(x, w, b):\n",
    "    layer=tf.nn.conv2d(x, w, strides=[1,2,2,1], padding='SAME')\n",
    "    layer=tf.nn.bias_add(layer, b)\n",
    "    return tf.nn.relu(layer)\n",
    "\n",
    "def maxPool(layer):\n",
    "    return tf.nn.max_pool(layer, ksize=[1,2,2,1], strides=[1,2,2,1, ], padding=\"SAME\")\n",
    "\n",
    "def model(x, weights,biases, drop_out):\n",
    "    layer1=conv2d(x, weights['c1'], biases['c1'] )\n",
    "    layer1=maxPool(layer1)\n",
    "    layer2=conv2d(x, weights['c2'], biases['c2'])\n",
    "    layer2=maxPool(layer2)\n",
    "    \n",
    "    fcLayer=tf.reshape(layer2, [-1, weights['fc'].get_shape().as_list()[0]])\n",
    "    fcLayer=tf.add(tf.matmul(fcLayer, weights['fc']), biases['fc'])\n",
    "    fcLayer=tf.nn.relu(fcLayer)\n",
    "    fcLayer=tf.nn.dropout(fcLayer, drop_out)\n",
    "    outLayer=tf.add(tf.matmul(fcLayer, weights['out']), biases['out'])\n",
    "    return outLayer\n",
    "    \n",
    "\n",
    "logits=model(x, weights, biases, keep_prob)\n",
    "cost=tf.reduce_mean(tf.nn.softmax_cross_entropy_with_logits(logits=logits, labels=labels))\n",
    "optimizer=tf.train.GradientDescentOptimizer(learning_rate=learning_rate).minimize(cost)\n",
    "\n",
    "correct_pred=tf.equal(tf.argmax(logits, 1), tf.argmax(labels, 1))\n",
    "accuracy=tf.reduce_mean(tf.cast(correct_pred, tf.float32))\n",
    "\n",
    "init=tf.global_variables_initializer()\n",
    "save_file='./digit_classifierModel.ckpt'\n",
    "saver=tf.train.Saver()\n",
    "\n",
    "def get_batches(batch_size, features, labels):\n",
    "    out_batches=[]\n",
    "    for start in range(0, len([features]), batch_size):\n",
    "        end=start+batch_size\n",
    "        batches=[features[start:end], labels[start:end]]\n",
    "        out_batches.append(batches)\n",
    "    return out_batches\n",
    "\n",
    "def epoch_stats(sess, epoch, last_feat, last_lab):\n",
    "    cur_cost=sess.run(cost, feed_dict={x:last_feat, labels:last_lab, keep_prob:1.0})\n",
    "    cur_acc=sess.run(accuracy, feed_dict={x:valid_features[:2000], labels:valid_labels[:2000], keep_prob:1.0})\n",
    "    print('epoch : {:<4} - cost : {:<8.3} - acc: {:<5.3}'.format(epoch, cur_cost, cur_acc) )\n",
    "    \n",
    "\n",
    "with tf.Session() as sess:\n",
    "    sess.run(init)\n",
    "    for i in range(epochs):\n",
    "        for batch_features, batch_labels in get_batches(batch_size, train_features, train_labels):\n",
    "            sess.run(optimizer, feed_dict={x:batch_features, labels:batch_labels, keep_prob:drop_out})\n",
    "        if (i%display_step==0):\n",
    "         \n",
    "            epoch_stats(sess, i, batch_features, batch_labels)\n",
    "        \n",
    "    model_acc=sess.run(accuracy, feed_dict={x:test_features, labels:test_labels, keep_prob:1.0})\n",
    "    saver.save(sess, save_file)\n",
    "    \n",
    "    \n",
    "print('\\nModel accuracy - {}'.format(model_acc))\n",
    "\n",
    "\n"
   ]
  },
  {
   "cell_type": "markdown",
   "metadata": {},
   "source": []
  },
  {
   "cell_type": "code",
   "execution_count": 3,
   "metadata": {
    "scrolled": false
   },
   "outputs": [
    {
     "data": {
      "image/png": "[encoded data removed]",
      "text/plain": [
       "<matplotlib.figure.Figure at 0x7fc191a53550>"
      ]
     },
     "metadata": {},
     "output_type": "display_data"
    },
    {
     "name": "stdout",
     "output_type": "stream",
     "text": [
      "\n",
      "---Extracted Digits---\n",
      "\n"
     ]
    },
    {
     "data": {
      "image/png": "[encoded data removed]",
      "text/plain": [
       "<matplotlib.figure.Figure at 0x7fc1ef9a4e10>"
      ]
     },
     "metadata": {},
     "output_type": "display_data"
    },
    {
     "data": {
      "image/png": "[encoded data removed]",
      "text/plain": [
       "<matplotlib.figure.Figure at 0x7fc1ef980c88>"
      ]
     },
     "metadata": {},
     "output_type": "display_data"
    },
    {
     "data": {
      "image/png": "[encoded data removed]",
      "text/plain": [
       "<matplotlib.figure.Figure at 0x7fc1ef8e4668>"
      ]
     },
     "metadata": {},
     "output_type": "display_data"
    },
    {
     "data": {
      "image/png": "[encoded data removed]",
      "text/plain": [
       "<matplotlib.figure.Figure at 0x7fc1ef9cf4e0>"
      ]
     },
     "metadata": {},
     "output_type": "display_data"
    },
    {
     "data": {
      "image/png": "[encoded data removed]",
      "text/plain": [
       "<matplotlib.figure.Figure at 0x7fc1ef819940>"
      ]
     },
     "metadata": {},
     "output_type": "display_data"
    },
    {
     "data": {
      "image/png": "[encoded data removed]",
      "text/plain": [
       "<matplotlib.figure.Figure at 0x7fc1ef7fd048>"
      ]
     },
     "metadata": {},
     "output_type": "display_data"
    },
    {
     "data": {
      "image/png": "[encoded data removed]",
      "text/plain": [
       "<matplotlib.figure.Figure at 0x7fc1ef8c8d30>"
      ]
     },
     "metadata": {},
     "output_type": "display_data"
    },
    {
     "data": {
      "image/png": "[encoded data removed]",
      "text/plain": [
       "<matplotlib.figure.Figure at 0x7fc1ef72d5f8>"
      ]
     },
     "metadata": {},
     "output_type": "display_data"
    },
    {
     "data": {
      "image/png": "[encoded data removed]",
      "text/plain": [
       "<matplotlib.figure.Figure at 0x7fc1919f1f28>"
      ]
     },
     "metadata": {},
     "output_type": "display_data"
    },
    {
     "data": {
      "image/png": "[encoded data removed]",
      "text/plain": [
       "<matplotlib.figure.Figure at 0x7fc1919b9d68>"
      ]
     },
     "metadata": {},
     "output_type": "display_data"
    },
    {
     "name": "stdout",
     "output_type": "stream",
     "text": [
      "INFO:tensorflow:Restoring parameters from ./digit_classifierModel.ckpt\n",
      "\n",
      "-----DETECTED DIGITS (as per above order)----\n",
      "\n",
      "[0 8 2 6 8 3 2 4 1 5]\n"
     ]
    }
   ],
   "source": [
    "# Test User input\n",
    "\n",
    "import cv2\n",
    "from matplotlib import pyplot as plt\n",
    "\n",
    "\n",
    "\n",
    "im = cv2.imread('finalDigits.jpeg') #input file here\n",
    "im_gray = cv2.cvtColor(im, cv2.COLOR_BGR2GRAY)\n",
    "im_gray = cv2.GaussianBlur(im_gray, (5, 5), 0)\n",
    "ret, im_th = cv2.threshold(im_gray, 90, 255, cv2.THRESH_BINARY_INV)\n",
    "_,ctrs, hier = cv2.findContours(im_th.copy(), cv2.RETR_EXTERNAL, cv2.CHAIN_APPROX_SIMPLE)\n",
    "rects = [cv2.boundingRect(ctr) for ctr in ctrs]\n",
    "\n",
    "numbers=[]\n",
    "pred_numbers=[]\n",
    "plt.imshow(im_th)\n",
    "plt.show()\n",
    "print(\"\\n---Extracted Digits---\\n\")\n",
    "\n",
    "for rect in rects:\n",
    "    cv2.rectangle(im, (rect[0], rect[1]), (rect[0] + rect[2], rect[1] + rect[3]), (0, 255, 0), 3) \n",
    "    leng = int(rect[3] * 1.6)\n",
    "    pt1 = int(rect[1] + rect[3] // 2 - leng // 2)\n",
    "    pt2 = int(rect[0] + rect[2] // 2 - leng // 2)\n",
    "    roi = im_th[pt1:pt1+leng, pt2:pt2+leng]\n",
    "    roi = cv2.resize(roi, (28, 28), interpolation=cv2.INTER_AREA)\n",
    "    plt.imshow(roi)\n",
    "    plt.show()\n",
    "    roi=roi[:, :, np.newaxis]\n",
    "    numbers.append(roi)\n",
    "    \n",
    "\n",
    "with tf.Session() as sess:\n",
    "    saver.restore(sess, save_file)\n",
    "    pred_numbers.append(sess.run(tf.argmax(logits, 1), feed_dict={x:numbers, keep_prob:1.0}))\n",
    "    \n",
    "print(\"\\n-----DETECTED DIGITS (as per above order)----\\n\")\n",
    "for i in pred_numbers: print(i,)"
   ]
  },
  {
   "cell_type": "code",
   "execution_count": null,
   "metadata": {},
   "outputs": [],
   "source": []
  },
  {
   "cell_type": "code",
   "execution_count": null,
   "metadata": {},
   "outputs": [],
   "source": []
  }
 ],
 "metadata": {
  "kernelspec": {
   "display_name": "Python 3",
   "language": "python",
   "name": "python3"
  },
  "language_info": {
   "codemirror_mode": {
    "name": "ipython",
    "version": 3
   },
   "file_extension": ".py",
   "mimetype": "text/x-python",
   "name": "python",
   "nbconvert_exporter": "python",
   "pygments_lexer": "ipython3",
   "version": "3.6.3"
  }
 },
 "nbformat": 4,
 "nbformat_minor": 2
}
